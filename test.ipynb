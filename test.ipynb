{
 "cells": [
  {
   "cell_type": "code",
   "execution_count": 75,
   "metadata": {},
   "outputs": [],
   "source": [
    "import torch.nn as nn\n",
    "import torch\n",
    "import config\n",
    "import numpy as np\n",
    "from model import intersection_over_union"
   ]
  },
  {
   "cell_type": "code",
   "execution_count": 129,
   "metadata": {},
   "outputs": [],
   "source": [
    "def bbox_iou(box1: torch.FloatTensor, box2: torch.FloatTensor):\n",
    "    \"\"\"Returns intersection over union of two bounding boxes.\n",
    "\n",
    "    Strictly performed on tensors.\n",
    "\n",
    "    Args:\n",
    "        box1 (torch.FloatTensor): Coordinates of bbox 1.\n",
    "        box2 (torch.FloatTensor): Coordinates of bbox 2.\n",
    "\n",
    "    Returns:\n",
    "        iou (float): IOU of two input bboxes.\n",
    "    \"\"\"\n",
    "    # get coords of bboxes\n",
    "    b1_x1, b1_y1, b1_x2, b1_y2 = box1[:,0], box1[:,1], box1[:,2], box1[:,3]\n",
    "    b2_x1, b2_y1, b2_x2, b2_y2 = box2[:,0], box2[:,1], box2[:,2], box2[:,3]\n",
    "\n",
    "    # get coords of intersection\n",
    "    intersect_x1 = torch.max(b1_x1, b2_x1)\n",
    "    intersect_y1 = torch.max(b1_y1, b2_y1)\n",
    "    intersect_x2 = torch.min(b1_x2, b2_x2)\n",
    "    intersect_y2 = torch.min(b1_y2, b2_y2)\n",
    "\n",
    "    # intersection area\n",
    "    # clamp to > 0\n",
    "    # this avoids areas being calculated for boxes with zero intersect\n",
    "    intersect_area = torch.clamp(intersect_x2 - intersect_x1, min=0)*torch.clamp(intersect_y2 - intersect_y1, min=0)\n",
    "\n",
    "    # union area\n",
    "    b1_area = (b1_x2 - b1_x1)*(b1_y2 - b1_y1)\n",
    "    b2_area = (b2_x2 - b2_x1)*(b2_y2 - b2_y1)\n",
    "    union_area = b1_area + b2_area - intersect_area\n",
    "\n",
    "    # compute iou\n",
    "    iou = intersect_area/union_area\n",
    "\n",
    "    return iou"
   ]
  },
  {
   "cell_type": "code",
   "execution_count": 130,
   "metadata": {},
   "outputs": [],
   "source": [
    "def centre_dims_to_corners(bbox: np.ndarray) -> np.ndarray:\n",
    "    \"\"\"Converts bbox attributes of form [x_centre, y_centre, width, height] to form [x1, y1, x2, y2]. \n",
    "    \n",
    "    Use on an array of bboxes: [[bbox_1], [bbox_2], ... [bbox_n]].\n",
    "\n",
    "    This form is used for easily calculating 2 bbox's IoU.\n",
    "\n",
    "    Args:\n",
    "        bbox (np.ndarray): Bbox centre and dims [x_centre, y_centre, width, height].\n",
    "\n",
    "    Returns:\n",
    "        new_bbox (np.ndarray): Bbox corner coords [x1, y1, x2, y2].\n",
    "    \"\"\"\n",
    "    if len(bbox.shape) > 1:\n",
    "        x_c, y_c, w, h = bbox[:,0], bbox[:,1], bbox[:,2], bbox[:,3]\n",
    "    else:\n",
    "        x_c, y_c, w, h = bbox[0], bbox[1], bbox[2], bbox[3]\n",
    "    x1, x2 = x_c-(w/2), x_c+(w/2)\n",
    "    y1, y2 = y_c-(h/2), y_c+(h/2)\n",
    "    \n",
    "    if len(bbox.shape) > 1:\n",
    "        x1 = np.expand_dims(x1, 1)\n",
    "        x2 = np.expand_dims(x2, 1)\n",
    "        y1 = np.expand_dims(y1, 1)\n",
    "        y2 = np.expand_dims(y2, 1)\n",
    "\n",
    "        new_bbox = np.concatenate((x1, y1, x2, y2), axis=1)\n",
    "    else:\n",
    "        new_bbox = np.array([x1, y1, x2, y2])\n",
    "\n",
    "    return new_bbox"
   ]
  },
  {
   "cell_type": "markdown",
   "metadata": {},
   "source": [
    "# From Scratch 1 with fake data"
   ]
  },
  {
   "cell_type": "code",
   "execution_count": 54,
   "metadata": {},
   "outputs": [],
   "source": [
    "# losses\n",
    "bcewll = nn.BCEWithLogitsLoss()\n",
    "bce = nn.BCELoss()\n",
    "mse = nn.MSELoss()\n",
    "ce = nn.CrossEntropyLoss()\n",
    "sigmoid_function = nn.Sigmoid()"
   ]
  },
  {
   "cell_type": "code",
   "execution_count": 116,
   "metadata": {},
   "outputs": [],
   "source": [
    "target = torch.tensor([\n",
    "    [1, 25, 25, 50, 50, 0, 0, 1], \n",
    "    [0, 0, 0, 0, 0, 0, 0, 0],\n",
    "    [1, 50, 50, 50, 50, 0, 1, 0],\n",
    "    [0, 0, 0, 0, 0, 0, 0, 0]]) # 2x2 gridsize [obj, xc, yc, w, h, cls...]\n",
    "\n",
    "good_pred = torch.tensor([\n",
    "    [0.9, 24, 26.5, 48, 47, 0.01, 0.01, 0.98], \n",
    "    [0.2, 0, 0, 0, 0, 0, 0, 0],\n",
    "    [0.97, 51, 52, 49, 51, 0.02, 0.98, 0],\n",
    "    [0.1, 0, 0, 0, 0, 0, 0, 0]])\n",
    "\n",
    "bad_pred = torch.tensor([\n",
    "    [0.2, 2, 265, 8, 27, 0.3, 0.5, 0.2], \n",
    "    [0.9, 0, 0, 0, 0, 0, 0, 0],\n",
    "    [0.1, 50, 2, 492, 81, 0.7, 0.2, 0.1],\n",
    "    [0.97, 0, 0, 0, 0, 0, 0, 0]]) \n",
    "\n",
    "obj = (target[...,0] == 1)\n",
    "nj = (target[...,0] == 0)"
   ]
  },
  {
   "cell_type": "markdown",
   "metadata": {},
   "source": [
    "### No Obj Loss"
   ]
  },
  {
   "cell_type": "code",
   "execution_count": 42,
   "metadata": {},
   "outputs": [
    {
     "name": "stdout",
     "output_type": "stream",
     "text": [
      "good bcewll:    0.7712677717208862\n",
      "bad bcewll:     1.2662863731384277\n",
      "good bce:       0.16425204277038574\n",
      "bad bce:        2.904572010040283\n"
     ]
    }
   ],
   "source": [
    "good_no_object_loss_wll = bcewll(\n",
    "    (good_pred[..., 0:1][nj].float()), (target[..., 0:1][nj].float()),\n",
    ")\n",
    "\n",
    "bad_no_object_loss_wll = bcewll(\n",
    "    (bad_pred[..., 0:1][nj].float()), (target[..., 0:1][nj].float()),\n",
    ")\n",
    "\n",
    "good_no_object_loss = bce(\n",
    "    (good_pred[..., 0:1][nj].float()), (target[..., 0:1][nj].float()),\n",
    ")\n",
    "\n",
    "bad_no_object_loss = bce(\n",
    "    (bad_pred[..., 0:1][nj].float()), (target[..., 0:1][nj].float()),\n",
    ")\n",
    "\n",
    "\n",
    "print(f\"good bcewll:    {good_no_object_loss_wll}\")\n",
    "print(f\"bad bcewll:     {bad_no_object_loss_wll}\")\n",
    "print(f\"good bce:       {good_no_object_loss}\")\n",
    "print(f\"bad bce:        {bad_no_object_loss}\")\n"
   ]
  },
  {
   "cell_type": "markdown",
   "metadata": {},
   "source": [
    "### Obj Loss"
   ]
  },
  {
   "cell_type": "markdown",
   "metadata": {},
   "source": [
    "- already applied sigmoid to prediction x_c, y_c\n",
    "- already applied exp to prediction w, h\n",
    "- already scaled prediction w, h by anchors"
   ]
  },
  {
   "cell_type": "code",
   "execution_count": 70,
   "metadata": {},
   "outputs": [],
   "source": [
    "# preds already scaled by anchors\n",
    "scaled_anchors = (\n",
    "        torch.tensor(config.ANCHORS)\n",
    "        * torch.tensor(config.S).unsqueeze(1).unsqueeze(1).repeat(1, 3, 2)\n",
    "    )\n",
    "anchors = scaled_anchors[0].reshape(1, 3, 1, 1, 2) # 3 anchors go in at a time"
   ]
  },
  {
   "cell_type": "code",
   "execution_count": 55,
   "metadata": {},
   "outputs": [
    {
     "data": {
      "text/plain": [
       "tensor([[1.0000, 1.0000],\n",
       "        [0.5000, 0.5000],\n",
       "        [1.0000, 1.0000],\n",
       "        [0.5000, 0.5000]])"
      ]
     },
     "execution_count": 55,
     "metadata": {},
     "output_type": "execute_result"
    }
   ],
   "source": [
    "sigmoid_function(good_pred[..., 1:3])"
   ]
  },
  {
   "cell_type": "code",
   "execution_count": 137,
   "metadata": {},
   "outputs": [],
   "source": [
    "target_bbox = torch.tensor([centre_dims_to_corners(t) for t in target[...,1:5][obj]])\n",
    "good_pred_bbox = torch.tensor([centre_dims_to_corners(t) for t in good_pred[...,1:5][obj]])\n",
    "bad_pred_bbox = torch.tensor([centre_dims_to_corners(t) for t in bad_pred[...,1:5][obj]])"
   ]
  },
  {
   "cell_type": "code",
   "execution_count": 153,
   "metadata": {},
   "outputs": [
    {
     "data": {
      "text/plain": [
       "tensor([0.9024, 0.8887])"
      ]
     },
     "execution_count": 153,
     "metadata": {},
     "output_type": "execute_result"
    }
   ],
   "source": [
    "result = bbox_iou(target_bbox, good_pred_bbox)\n",
    "result"
   ]
  },
  {
   "cell_type": "code",
   "execution_count": 152,
   "metadata": {},
   "outputs": [
    {
     "data": {
      "text/plain": [
       "tensor([0.9024, 0.8887])"
      ]
     },
     "execution_count": 152,
     "metadata": {},
     "output_type": "execute_result"
    }
   ],
   "source": [
    "target[..., 0][obj]*result"
   ]
  },
  {
   "cell_type": "code",
   "execution_count": 155,
   "metadata": {},
   "outputs": [
    {
     "data": {
      "text/plain": [
       "tensor([[0.9000, 0.9700]])"
      ]
     },
     "execution_count": 155,
     "metadata": {},
     "output_type": "execute_result"
    }
   ],
   "source": [
    "good_pred[..., 0:1][obj].T"
   ]
  },
  {
   "cell_type": "code",
   "execution_count": 157,
   "metadata": {},
   "outputs": [
    {
     "name": "stderr",
     "output_type": "stream",
     "text": [
      "c:\\Users\\henry\\AppData\\Local\\Programs\\Python\\Python39\\lib\\site-packages\\torch\\nn\\modules\\loss.py:528: UserWarning: Using a target size (torch.Size([2, 2])) that is different to the input size (torch.Size([2, 1])). This will likely lead to incorrect results due to broadcasting. Please ensure they have the same size.\n",
      "  return F.mse_loss(input, target, reduction=self.reduction)\n"
     ]
    },
    {
     "data": {
      "text/plain": [
       "tensor(0.0028)"
      ]
     },
     "execution_count": 157,
     "metadata": {},
     "output_type": "execute_result"
    }
   ],
   "source": [
    "mse(good_pred[..., 0:1][obj], result*target[..., 0:1][obj])"
   ]
  },
  {
   "cell_type": "code",
   "execution_count": 81,
   "metadata": {},
   "outputs": [
    {
     "data": {
      "text/plain": [
       "tensor([[1.0000e+00, 1.0000e+00, 7.0167e+20, 2.5813e+20],\n",
       "        [1.0000e+00, 1.0000e+00, 1.9073e+21, 1.4093e+22]])"
      ]
     },
     "execution_count": 81,
     "metadata": {},
     "output_type": "execute_result"
    }
   ],
   "source": [
    "box_preds[obj]"
   ]
  },
  {
   "cell_type": "code",
   "execution_count": 82,
   "metadata": {},
   "outputs": [
    {
     "data": {
      "text/plain": [
       "tensor([[25, 25, 50, 50],\n",
       "        [50, 50, 50, 50]])"
      ]
     },
     "execution_count": 82,
     "metadata": {},
     "output_type": "execute_result"
    }
   ],
   "source": [
    "target[..., 1:5][obj]"
   ]
  },
  {
   "cell_type": "code",
   "execution_count": 128,
   "metadata": {},
   "outputs": [
    {
     "name": "stdout",
     "output_type": "stream",
     "text": [
      "good bcewll:    0.33128637075424194\n",
      "bad bcewll:     0.6212677955627441\n",
      "good bce:       0.0679098591208458\n",
      "bad bce:        1.9560115337371826\n"
     ]
    }
   ],
   "source": [
    "\n",
    "good_object_loss = bce(\n",
    "    (good_pred[..., 0:1][obj].float()), (target[..., 0:1][obj].float()),\n",
    ")\n",
    "\n",
    "bad_object_loss = bce(\n",
    "    (bad_pred[..., 0:1][obj].float()), (target[..., 0:1][obj].float()),\n",
    ")\n",
    "\n",
    "\n",
    "print(f\"good bcewll:    {good_object_loss_wll}\")\n",
    "print(f\"bad bcewll:     {bad_object_loss_wll}\")\n",
    "print(f\"good bce:       {good_object_loss}\")\n",
    "print(f\"bad bce:        {bad_object_loss}\")\n"
   ]
  },
  {
   "cell_type": "markdown",
   "metadata": {},
   "source": [
    "### Bbox Loss"
   ]
  },
  {
   "cell_type": "markdown",
   "metadata": {},
   "source": [
    "- already applied sigmoid to prediction x_c, y_c\n",
    "- already applied exp and anchor scale to prediction w, h\n",
    "    -> so dont apply reverse operations on target/labels"
   ]
  },
  {
   "cell_type": "code",
   "execution_count": 114,
   "metadata": {},
   "outputs": [
    {
     "data": {
      "text/plain": [
       "tensor([[24.0000, 26.5000, 48.0000, 47.0000],\n",
       "        [51.0000, 52.0000, 49.0000, 51.0000]])"
      ]
     },
     "execution_count": 114,
     "metadata": {},
     "output_type": "execute_result"
    }
   ],
   "source": [
    "good_pred[..., 1:5][obj]"
   ]
  },
  {
   "cell_type": "code",
   "execution_count": 119,
   "metadata": {},
   "outputs": [
    {
     "data": {
      "text/plain": [
       "tensor([[4.8990, 5.1478, 6.9282, 6.8557],\n",
       "        [7.1414, 7.2111, 7.0000, 7.1414]])"
      ]
     },
     "execution_count": 119,
     "metadata": {},
     "output_type": "execute_result"
    }
   ],
   "source": [
    "torch.sqrt(good_pred[..., 1:5][obj])"
   ]
  },
  {
   "cell_type": "code",
   "execution_count": 115,
   "metadata": {},
   "outputs": [
    {
     "data": {
      "text/plain": [
       "tensor([[25, 25, 50, 50],\n",
       "        [50, 50, 50, 50]])"
      ]
     },
     "execution_count": 115,
     "metadata": {},
     "output_type": "execute_result"
    }
   ],
   "source": [
    "target[..., 1:5][obj]"
   ]
  },
  {
   "cell_type": "code",
   "execution_count": 120,
   "metadata": {},
   "outputs": [
    {
     "data": {
      "text/plain": [
       "tensor([[5.0000, 5.0000, 7.0711, 7.0711],\n",
       "        [7.0711, 7.0711, 7.0711, 7.0711]])"
      ]
     },
     "execution_count": 120,
     "metadata": {},
     "output_type": "execute_result"
    }
   ],
   "source": [
    "torch.sqrt(target[..., 1:5][obj])"
   ]
  },
  {
   "cell_type": "code",
   "execution_count": 127,
   "metadata": {},
   "outputs": [
    {
     "name": "stdout",
     "output_type": "stream",
     "text": [
      "good box:            2.90625\n",
      "bad box:             32381.375\n",
      "good sqrt(w,h) box:  2.0817036628723145\n",
      "bad sqrt(w,h) box:   15171.63671875\n",
      "good sqrt(all) box:  0.016678646206855774\n",
      "bad sqrt(all) box:   53.202247619628906\n"
     ]
    }
   ],
   "source": [
    "good_box_loss = mse(good_pred[..., 1:5][obj], target[..., 1:5][obj])\n",
    "bad_box_loss = mse(bad_pred[..., 1:5][obj], target[..., 1:5][obj])\n",
    "\n",
    "good_sqrt_wh_box_loss = mse(good_pred[..., 1:3][obj], target[..., 1:3][obj]) + mse(torch.sqrt(good_pred[..., 3:5][obj]), torch.sqrt(target[..., 3:5][obj]))\n",
    "bad_sqrt_wh_box_loss = mse(bad_pred[..., 1:3][obj], target[..., 1:3][obj]) + mse(torch.sqrt(bad_pred[..., 3:5][obj]), torch.sqrt(target[..., 3:5][obj]))\n",
    "\n",
    "good_sqrt_box_loss = mse(torch.sqrt(good_pred[..., 1:5][obj]), torch.sqrt(target[..., 1:5][obj]))\n",
    "bad_sqrt_box_loss = mse(torch.sqrt(bad_pred[..., 1:5][obj]), torch.sqrt(target[..., 1:5][obj]))\n",
    "\n",
    "print(f\"good box:            {good_box_loss}\")\n",
    "print(f\"bad box:             {bad_box_loss}\")\n",
    "print(f\"good sqrt(w,h) box:  {good_sqrt_wh_box_loss}\")\n",
    "print(f\"bad sqrt(w,h) box:   {bad_sqrt_wh_box_loss}\")\n",
    "print(f\"good sqrt(all) box:  {good_sqrt_box_loss}\")\n",
    "print(f\"bad sqrt(all) box:   {bad_sqrt_box_loss}\")"
   ]
  },
  {
   "cell_type": "markdown",
   "metadata": {},
   "source": [
    "### Class Loss"
   ]
  },
  {
   "cell_type": "code",
   "execution_count": 102,
   "metadata": {},
   "outputs": [],
   "source": [
    "cls_argmax = torch.argmax(target[..., 5:], dim=-1)"
   ]
  },
  {
   "cell_type": "code",
   "execution_count": 92,
   "metadata": {},
   "outputs": [
    {
     "data": {
      "text/plain": [
       "tensor([[0.0100, 0.0100, 0.9800],\n",
       "        [0.0200, 0.9800, 0.0000]])"
      ]
     },
     "execution_count": 92,
     "metadata": {},
     "output_type": "execute_result"
    }
   ],
   "source": [
    "good_pred[..., 5:][obj]"
   ]
  },
  {
   "cell_type": "code",
   "execution_count": 96,
   "metadata": {},
   "outputs": [
    {
     "data": {
      "text/plain": [
       "tensor([[0.0100, 0.0100, 0.9800],\n",
       "        [0.0200, 0.9800, 0.0000]])"
      ]
     },
     "execution_count": 96,
     "metadata": {},
     "output_type": "execute_result"
    }
   ],
   "source": [
    "bad_pred[..., 5:][obj]"
   ]
  },
  {
   "cell_type": "code",
   "execution_count": 106,
   "metadata": {},
   "outputs": [
    {
     "name": "stdout",
     "output_type": "stream",
     "text": [
      "good class: 0.5642820596694946\n",
      "bad class:  1.2538902759552002\n"
     ]
    }
   ],
   "source": [
    "good_class_loss = ce((good_pred[..., 5:][obj]), (cls_argmax[obj]))\n",
    "bad_class_loss = ce((bad_pred[..., 5:][obj]), (cls_argmax[obj]))\n",
    "\n",
    "print(f\"good class: {good_class_loss}\")\n",
    "print(f\"bad class:  {bad_class_loss}\")"
   ]
  }
 ],
 "metadata": {
  "interpreter": {
   "hash": "4236b1bd8af5c88b200f8ae259f28c355fd90bec7f49eb3a4c44b52c2fc9f9b2"
  },
  "kernelspec": {
   "display_name": "Python 3.9.4 64-bit",
   "language": "python",
   "name": "python3"
  },
  "language_info": {
   "codemirror_mode": {
    "name": "ipython",
    "version": 3
   },
   "file_extension": ".py",
   "mimetype": "text/x-python",
   "name": "python",
   "nbconvert_exporter": "python",
   "pygments_lexer": "ipython3",
   "version": "3.9.4"
  },
  "orig_nbformat": 4
 },
 "nbformat": 4,
 "nbformat_minor": 2
}
