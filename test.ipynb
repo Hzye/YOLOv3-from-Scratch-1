{
 "cells": [
  {
   "cell_type": "code",
   "execution_count": 10,
   "metadata": {},
   "outputs": [],
   "source": [
    "from model import intersection_over_union\n",
    "import torch.nn as nn\n",
    "import torch\n",
    "import config"
   ]
  },
  {
   "cell_type": "code",
   "execution_count": 9,
   "metadata": {},
   "outputs": [],
   "source": [
    "def forward(preds, target, anchors):\n",
    "    mse = nn.MSELoss()\n",
    "    bcewll = nn.BCEWithLogitsLoss()\n",
    "    cross_entropy = nn.CrossEntropyLoss()\n",
    "    sigmoid_function = nn.Sigmoid()\n",
    "    l_class = 1\n",
    "    l_nj = 10\n",
    "    l_box = 10\n",
    "    l_obj = 1\n",
    "\n",
    "    # Check where obj and nj (we ignore if target == -1)\n",
    "    obj = target[..., 0] == 1  # in paper this is Iobj_i\n",
    "    nj = target[..., 0] == 0  # in paper this is Inoobj_i\n",
    "\n",
    "    # ======================= #\n",
    "    #   FOR NO OBJECT LOSS    #\n",
    "    # ======================= #\n",
    "\n",
    "    no_object_loss = bcewll(\n",
    "        (preds[..., 0:1][nj]), (target[..., 0:1][nj]),\n",
    "    )\n",
    "\n",
    "    # ==================== #\n",
    "    #   FOR OBJECT LOSS    #\n",
    "    # ==================== #\n",
    "\n",
    "    anchors = anchors.reshape(1, 3, 1, 1, 2)\n",
    "\n",
    "    box_preds = torch.cat([sigmoid_function(preds[..., 1:3]), torch.exp(preds[..., 3:5]) * anchors], dim=-1)\n",
    "    result = intersection_over_union(box_preds[obj], target[..., 1:5][obj]).detach()\n",
    "\n",
    "    loss_obj = mse(sigmoid_function(preds[..., 0:1][obj]), result * target[..., 0:1][obj])\n",
    "\n",
    "    # ======================== #\n",
    "    #   FOR BOX COORDINATES    #\n",
    "    # ======================== #\n",
    "\n",
    "    preds[..., 1:3] = sigmoid_function(preds[..., 1:3])  # x,y coordinates\n",
    "    target[..., 3:5] = torch.log(\n",
    "        (1e-16 + target[..., 3:5] / anchors)\n",
    "    )  # width, height coordinates\n",
    "    box_loss = mse(preds[..., 1:5][obj], target[..., 1:5][obj])\n",
    "\n",
    "    # ================== #\n",
    "    #   FOR CLASS LOSS   #\n",
    "    # ================== #\n",
    "\n",
    "    class_loss = cross_entropy(\n",
    "        (preds[..., 5:][obj]), (target[..., 5][obj].long()),\n",
    "    )\n",
    "\n",
    "    return (\n",
    "            l_box * box_loss\n",
    "            + l_obj * loss_obj\n",
    "            + l_nj * no_object_loss\n",
    "            + l_class * class_loss\n",
    "    )"
   ]
  },
  {
   "cell_type": "code",
   "execution_count": 52,
   "metadata": {},
   "outputs": [
    {
     "data": {
      "text/plain": [
       "tensor([[[ 3.6400,  2.8600],\n",
       "         [ 4.9400,  6.2400],\n",
       "         [11.7000, 10.1400]],\n",
       "\n",
       "        [[ 1.8200,  3.9000],\n",
       "         [ 3.9000,  2.8600],\n",
       "         [ 3.6400,  7.5400]],\n",
       "\n",
       "        [[ 1.0400,  1.5600],\n",
       "         [ 2.0800,  3.6400],\n",
       "         [ 4.1600,  3.1200]]])"
      ]
     },
     "execution_count": 52,
     "metadata": {},
     "output_type": "execute_result"
    }
   ],
   "source": [
    "scaled_anchors = (\n",
    "        torch.tensor(config.ANCHORS)\n",
    "        * torch.tensor(config.S).unsqueeze(1).unsqueeze(1).repeat(1, 3, 2)\n",
    "    )\n",
    "scaled_anchors"
   ]
  },
  {
   "cell_type": "code",
   "execution_count": 58,
   "metadata": {},
   "outputs": [],
   "source": [
    "rnd_t = torch.tensor([[[1, 2, 3], [4, 5, 6], [7, 8, 9]],\n",
    "        [[10, 11, 12], [13, 14, 15], [16, 17, 18]]])"
   ]
  },
  {
   "cell_type": "code",
   "execution_count": 60,
   "metadata": {},
   "outputs": [
    {
     "data": {
      "text/plain": [
       "tensor([[ 1,  4,  7],\n",
       "        [10, 13, 16]])"
      ]
     },
     "execution_count": 60,
     "metadata": {},
     "output_type": "execute_result"
    }
   ],
   "source": [
    "rnd_t[...,0]"
   ]
  },
  {
   "cell_type": "code",
   "execution_count": null,
   "metadata": {},
   "outputs": [],
   "source": []
  }
 ],
 "metadata": {
  "interpreter": {
   "hash": "4236b1bd8af5c88b200f8ae259f28c355fd90bec7f49eb3a4c44b52c2fc9f9b2"
  },
  "kernelspec": {
   "display_name": "Python 3.9.4 64-bit",
   "language": "python",
   "name": "python3"
  },
  "language_info": {
   "codemirror_mode": {
    "name": "ipython",
    "version": 3
   },
   "file_extension": ".py",
   "mimetype": "text/x-python",
   "name": "python",
   "nbconvert_exporter": "python",
   "pygments_lexer": "ipython3",
   "version": "3.9.4"
  },
  "orig_nbformat": 4
 },
 "nbformat": 4,
 "nbformat_minor": 2
}
